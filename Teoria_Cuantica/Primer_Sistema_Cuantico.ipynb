{
 "cells": [
  {
   "cell_type": "markdown",
   "metadata": {},
   "source": [
    "# Quantum states\n",
    "\n",
    "## Simule el primer sistema cuántico descrito en la sección 4.1\n",
    "\n",
    "1. El sistema debe calcular la probabilidad de encontrarlo en una posición en particular.\n",
    "\n",
    "2. El sistema si se le da otro vector Ket debe buscar la probabilidad de transitar del primer vector al segundo.\n"
   ]
  },
  {
   "cell_type": "code",
   "execution_count": null,
   "metadata": {},
   "outputs": [],
   "source": []
  }
 ],
 "metadata": {
  "language_info": {
   "name": "python"
  }
 },
 "nbformat": 4,
 "nbformat_minor": 2
}
