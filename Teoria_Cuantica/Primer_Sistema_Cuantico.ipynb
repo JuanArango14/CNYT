{
 "cells": [
  {
   "cell_type": "markdown",
   "metadata": {},
   "source": [
    "# Quantum states\n",
    "\n",
    "## Simule el primer sistema cuántico descrito en la sección 4.1\n",
    "\n",
    "1. El sistema debe calcular la probabilidad de encontrarlo en una posición en particular.\n",
    "\n",
    "2. El sistema si se le da otro vec Ket debe buscar la probabilidad de transitar del primer vec al segundo.\n"
   ]
  },
  {
   "cell_type": "markdown",
   "metadata": {},
   "source": [
    "# Solucion Primer punto:"
   ]
  },
  {
   "cell_type": "code",
   "execution_count": 1,
   "metadata": {},
   "outputs": [
    {
     "name": "stdout",
     "output_type": "stream",
     "text": [
      "[0.52631579]\n",
      "[0.21052632]\n",
      "[0.05263158]\n",
      "[0.21052632]\n"
     ]
    }
   ],
   "source": [
    "import numpy as np\n",
    "\n",
    "def quantumStates(vec, pos):\n",
    "    probability = np.abs(vec[pos]) ** 2 / np.linalg.norm(vec) ** 2\n",
    "    return probability\n",
    "\n",
    "# Define a quantum state\n",
    "def function(): \n",
    "    ket = np.array([[-3-1j],[-2j], [1j], [2]])\n",
    "    for i in range (0, ket.shape[0]): # Loop through each position in the state vector\n",
    "        pos = i\n",
    "        probability = quantumStates (ket, pos)\n",
    "        print(probability)\n",
    "function()\n",
    "    "
   ]
  }
 ],
 "metadata": {
  "kernelspec": {
   "display_name": "Python 3",
   "language": "python",
   "name": "python3"
  },
  "language_info": {
   "codemirror_mode": {
    "name": "ipython",
    "version": 3
   },
   "file_extension": ".py",
   "mimetype": "text/x-python",
   "name": "python",
   "nbconvert_exporter": "python",
   "pygments_lexer": "ipython3",
   "version": "3.12.5"
  }
 },
 "nbformat": 4,
 "nbformat_minor": 2
}
